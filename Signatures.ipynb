{
 "cells": [
  {
   "cell_type": "code",
   "execution_count": null,
   "id": "cb61a590-00af-41fb-b5d3-3b51813ab5c5",
   "metadata": {
    "tags": []
   },
   "outputs": [],
   "source": [
    "from cryptography.hazmat.primitives import hashes\n",
    "from cryptography.hazmat.primitives.ciphers.aead import ChaCha20Poly1305\n",
    "from cryptography.hazmat.primitives.serialization import load_der_public_key, load_der_private_key\n",
    "from cryptography.hazmat.primitives.asymmetric import padding, rsa\n",
    "from cryptography.hazmat.primitives.asymmetric.rsa import RSAPublicKey, RSAPrivateKey\n",
    "from cryptography.hazmat.primitives.asymmetric.ed25519 import Ed25519PrivateKey, Ed25519PublicKey\n",
    "from cryptography.hazmat.primitives.asymmetric.x25519 import X25519PrivateKey, X25519PublicKey"
   ]
  },
  {
   "cell_type": "markdown",
   "id": "31d6679b-bd90-4c95-80ed-07307752209d",
   "metadata": {},
   "source": [
    "### Pomožne funkcije za nalaganje vsebin z diska\n",
    "\n",
    "Medtem ko so bili simetrični ključi preprosto naključne vrednosti imajo javni in zasebni ključi bolj dovršeno strukturo.\n",
    "\n",
    "Za postroj in zapis javnih in zasebnih ključev imamo standarde, denimo X.509, ki določajo različne načine zapisa ključev, certifikatov in sorodnih reči. \n",
    "\n",
    "S tem se tokrat ne bomo ukvarjali. Za lažje branje podatkov z diska le uporabite spodnje funkcije."
   ]
  },
  {
   "cell_type": "code",
   "execution_count": null,
   "id": "a69905f7-a6a9-4018-8133-250fec2c6ca4",
   "metadata": {},
   "outputs": [],
   "source": [
    "def load_bytes(filename: str) -> bytes:\n",
    "    with open(filename, \"rb\") as h:\n",
    "        return h.read() \n",
    "    \n",
    "def load_public_key(filename: str) -> bytes:\n",
    "    \"\"\"Prebere javni ključ z diska\"\"\"\n",
    "    return load_der_public_key(load_bytes(filename))\n",
    "\n",
    "def load_secret_key(filename: str) -> bytes:\n",
    "    \"\"\"Prebere zasebni ključ z diska\"\"\"\n",
    "    return load_der_private_key(load_bytes(filename), None)"
   ]
  },
  {
   "cell_type": "markdown",
   "id": "b5940150-ebc8-46d2-88ec-68bde7561458",
   "metadata": {},
   "source": [
    "## Naloga 1: Digitalni podpis RSA-PSS\n",
    "\n",
    "Implementirajte shemo digitalnega podpisa RSA, tako da podate implementacijo algoritmov za ustvarjanje ključev, podpisovanja in preverjanja podpisa. Pri tem si pomagajte z dokumentacijo knjižnice cryptography: [RSA @ cryptography](https://cryptography.io/en/latest/hazmat/primitives/asymmetric/rsa/)\n",
    "\n",
    "Specifikacije so naslednje:\n",
    "\n",
    "Algoritem `gen(int)`\n",
    "- opcijsko vzame velikost ključa (modula); privzeta vrednost naj bo 2048 bitov;\n",
    "- eksponent e naj bo 65537\n",
    "- vrne naj par `(pk, sk)`"
   ]
  },
  {
   "cell_type": "code",
   "execution_count": null,
   "id": "b17ef7bd-d908-4ef4-91ae-93c4edd856c3",
   "metadata": {
    "tags": []
   },
   "outputs": [],
   "source": [
    "def gen_rsa(key_size: int=2048) -> tuple[RSAPublicKey, RSAPrivateKey]:\n",
    "    sk = rsa.generate_private_key(public_exponent=65537, key_size=key_size)\n",
    "    return sk.public_key(), sk\n",
    "\n",
    "gen_rsa()"
   ]
  },
  {
   "cell_type": "code",
   "execution_count": null,
   "id": "3dc6abf7-71f7-484e-8dca-4334b1077859",
   "metadata": {
    "tags": []
   },
   "outputs": [],
   "source": [
    "def test_gen_rsa():\n",
    "    pk, sk = gen_rsa()\n",
    "    assert pk.key_size == 2048\n",
    "    assert hasattr(pk, \"encrypt\")\n",
    "    assert hasattr(sk, \"decrypt\")\n",
    "    pk, sk = gen_rsa(4096)\n",
    "    assert pk.key_size == 4096\n",
    "    \n",
    "test_gen_rsa()"
   ]
  },
  {
   "cell_type": "markdown",
   "id": "3425b4c8-17bf-4ac7-bf16-2a3c86823c91",
   "metadata": {},
   "source": [
    "Podpisni algoritem vzame dva argumenta:\n",
    "- `sk` zasebni ključ kot ga vrne algoritem `gen_rsa()`,\n",
    "- `pt` čistopis v bajtih\n",
    "\n",
    "in vrne bajte, ki predstavljajo vrednost digitalnega podpisa. \n",
    "\n",
    "Implementirajte različico RSA-PSS. Za MGF uporabite `MGF1`, zgoščevalna funkcija naj bo v obeh primerih `SHA256`, dolžino soli ročno nastavite na `32`."
   ]
  },
  {
   "cell_type": "code",
   "execution_count": null,
   "id": "2aa9f983-5900-4990-927e-3b2327cbe6ba",
   "metadata": {
    "tags": []
   },
   "outputs": [],
   "source": [
    "def sign_rsa(sk: RSAPrivateKey, pt: bytes) -> bytes:\n",
    "    return sk.sign(pt, padding.PSS(mgf=padding.MGF1(hashes.SHA256()),salt_length=32), hashes.SHA256())\n",
    "\n",
    "sign_rsa(gen_rsa()[1], b\"test\")"
   ]
  },
  {
   "cell_type": "markdown",
   "id": "e1eaa87f-f779-4598-a1ae-13d113eae15e",
   "metadata": {},
   "source": [
    "Algoritem preverjanja vzame tri argumente:\n",
    "- `pk` javni ključ kot ga vrne algoritem gen_rsa(),\n",
    "- `pt` čistopis v bajtih,\n",
    "- `sig`, pridruženi podatki v bajtih.\n",
    "\n",
    "Kot pri podpisovanju za MGF uporabite `MGF1`, zgoščevalna funkcija naj bo v obeh primerih `SHA256`, dolžino soli ročno nastavite na `32`.\n",
    "\n",
    "Kot rezultat vrnite `True` natanko takrat ko preverjanje podpisa uspe. Sicer vrnite `False`."
   ]
  },
  {
   "cell_type": "code",
   "execution_count": null,
   "id": "bdaefbef-f85a-4b5b-b8b6-16715472fa5a",
   "metadata": {
    "tags": []
   },
   "outputs": [],
   "source": [
    "def verify_rsa(pk: RSAPublicKey, pt: bytes, sig: bytes) -> bool:\n",
    "    try:\n",
    "        pk.verify(sig, pt, padding.PSS(\n",
    "            mgf=padding.MGF1(hashes.SHA256()),\n",
    "            salt_length=32), hashes.SHA256())\n",
    "        return True;\n",
    "    except:\n",
    "        return False\n",
    "    \n",
    "_rsa_key = gen_rsa()\n",
    "verify_rsa(_rsa_key[0], b\"test\", sign_rsa(_rsa_key[1], b\"test\"))"
   ]
  },
  {
   "cell_type": "code",
   "execution_count": null,
   "id": "c45d6f7f-2f02-4314-bf62-fb38c23b02ff",
   "metadata": {
    "tags": []
   },
   "outputs": [],
   "source": [
    "def test_sign_verify_rsa():\n",
    "    pk, sk = gen_rsa()\n",
    "    \n",
    "    assert verify_rsa(pk, b\"test\", sign_rsa(sk, b\"test\"))\n",
    "    assert not verify_rsa(pk, b\"test1\", sign_rsa(sk, b\"test\"))    \n",
    "\n",
    "test_sign_verify_rsa()"
   ]
  },
  {
   "cell_type": "markdown",
   "id": "c70b2c67-4476-4945-b29d-bd0afc902403",
   "metadata": {},
   "source": [
    "## Naloga 2: Implementacija RSA-PSS (Java)\n",
    "\n",
    "V Javanskem projektu implementirajte RSA-PSS v datoteki `RSAPSSSignature.java`. \n",
    "\n",
    "Začnite z ogledom datotek `RSASignatureExample` ter  `Ed25519SignatureExample.java`, ki sta primer podpisa in njegovega preverjanja za algoritma RSA-PKCS1 ter Ed25519.\n",
    "\n",
    "Primer s RSA-PSS je zelo podoben, le da boste kot algoritem za ustvarjanje ključa nastavili na `RSA` ter za podpisni algoritem ime `RSASSA-PSS`.\n",
    "\n",
    "Pri tem pazite na sledeče zahteve gelde RSA-PSS:\n",
    "- za MGF uporabite MGF1,\n",
    "- zgoščevalna funkcija naj bo v obeh primerih SHA256 in\n",
    "- dolžino soli ročno nastavite na 32.\n",
    "\n",
    "To storite z uporabo razreda `PSSParameterSpec` kot podaja sledeč primer.\n",
    "\n",
    "```java\n",
    "Signature signer = // ....\n",
    "signer.setParameter(new PSSParameterSpec(\"SHA-256\", \"MGF1\", MGF1ParameterSpec.SHA256, 32, 1));\n",
    "signer.initSign(key);\n",
    "```\n",
    "\n",
    "Implementirajte funkcije `gen()`, `sign()` in `verify()`.\n",
    "\n",
    "### Preverjanje: RSA-PSS (Python)\n",
    "\n",
    "Ko bo Javanska implementacija zaključena, se bodo po uspešno izvedenem programu ustvarile  datoteke `rsa.pk`, `rsa.sk`, `rsa.msg` ter `rsa.sig`, ki vsebujejo javni in zasebni ključ ter sporočilo in podpis.\n",
    "\n",
    "Datoteke naložite v Python in z uporabo funkcije `verify_rsa(pk, message, sig)` preverite veljavnost podpisa še v pythonu."
   ]
  },
  {
   "cell_type": "code",
   "execution_count": null,
   "id": "98909075-0301-4bb2-a691-e82084a30ec2",
   "metadata": {
    "tags": []
   },
   "outputs": [],
   "source": [
    "assert verify_rsa(\n",
    "    load_public_key(\"rsa.pk\"), # javni kljč\n",
    "    load_bytes(\"rsa.msg\"),     # sporočilo\n",
    "    load_bytes(\"rsa.sig\")      # podpis\n",
    ")"
   ]
  },
  {
   "cell_type": "markdown",
   "id": "740d2115-f095-44b1-97d1-15541ddd39df",
   "metadata": {},
   "source": [
    "## Naloga 3: Digitalni podpis Ed25519 (Java)\n",
    "\n",
    "Zelo podobna naloga kot prejšnja, le da uporabimo drugo podpisno shemo, tokrat Ed25519. Gre za eno novejših podpisnih shem, ki se pogosto uporablja in temelji na eliptični krivulji 25519.\n",
    "\n",
    "Naloga se nahaja v datoteki `Ed25519Signature.java`. Implementirajte funkcije `gen()`, `sign()` in `verify()`. \n",
    "\n",
    "Za algoritme za ustvarjanje ključev, podpisovanja in preverjanja izberite ustrezne nastavitve: le poiščite pravilna [imena algoritmov v dokumentaciji.](https://docs.oracle.com/en/java/javase/21/docs/specs/security/standard-names.html#cipher-algorithms)\n",
    "\n",
    "## Naloga 4: Digitalni podpis Ed25519 (Python)\n",
    "\n",
    "Ko bo Javanska implementacija uspešno zaključena, se bodo po uspešno izvedenem programu ustvarile  datoteke `ed25519.pk`, `ed25519.sk`, `ed25519.msg` ter `ed25519.sig`, ki vsebujejo javni in zasebni ključ ter sporočilo in podpis.\n",
    "\n",
    "Datoteke naložite v Python in preverite, [ali je podpis veljaven.](https://cryptography.io/en/latest/hazmat/primitives/asymmetric/ed25519/#signing-verification)"
   ]
  },
  {
   "cell_type": "code",
   "execution_count": null,
   "id": "1d17827b-2961-4ab2-9c75-21867dba60a9",
   "metadata": {
    "tags": []
   },
   "outputs": [],
   "source": [
    "def verify_ed25519(pk: Ed25519PublicKey, message: bytes, sig: bytes) -> bool:\n",
    "    try:\n",
    "        pk.verify(sig, message)\n",
    "        return True\n",
    "    except:\n",
    "        return False\n",
    "    \n",
    "\n",
    "assert verify_ed25519(\n",
    "    load_public_key(\"ed25519.pk\"), # javni ključ\n",
    "    load_bytes(\"ed25519.msg\"),     # sporočilo\n",
    "    load_bytes(\"ed25519.sig\")      # podpis\n",
    ")"
   ]
  },
  {
   "cell_type": "markdown",
   "id": "62da358c-fa36-4690-b387-0cdd7bbc50d9",
   "metadata": {},
   "source": [
    "## Naloga 5: Moderni Elgamal (ECIES) (Java)\n",
    "\n",
    "Za konec implementirajmo še hibridno šifro Elgamal (znano pod modernim imenom ECIES) v Javi, delno pa tudi v Pythonu.\n",
    "\n",
    "Implementacija naj sledi algoritmu `gen()`, `enc(pk, pt)` in `dec(sk, ct)`, ki smo jih podali na predavanjih. Upoštevajte pa sledeče:\n",
    "\n",
    "- Pri ustvarjanju ključev uporabite algoritem `X25519`.\n",
    "- Tekom šifriranja (in dešifriranja) bo potrebno izvesti protokol Diffie--Hellman: v Javi izberite algoritem `XDH`.\n",
    "- Za zgoščevalno funkcijo uporabite `SHA-256`.\n",
    "- Simetrično overjeno šifriranje izvedite s `ChaCha20-Poly1305`.\n",
    "- Celoten tajnopis naj sestoji iz vrednosti `B || IV || CT`, kjer `B` predstavlja (začasni) javni ključ ustvarjen pri šifriranju, `IV` naključno vrednost uporabljeno pri simetrični šifri ter `CT` simetrični tajnopis dobljen s šifro `ChaCha20-Poly1305`.\n",
    "\n",
    "Prepričajte se, da implementacija v javi deluje pravilno. Tekom izvedbe, bi morala ustvariti datoteke, ki predstavljajo javni in zasebni ključ ter tajnopis. \n",
    "\n",
    "## Naloga 6: Moderni Elgamal (ECIES) (Python)\n",
    "\n",
    "Na koncu implementirajte še dešifrirni algoritem v Pythonu: spodnja koda naloži zasebni ključ ter tajnopis in ju skuša dešifrirati.\n",
    "\n",
    "Pri implementaciji v Pythonu bodite pozorni:\n",
    "- Tajnopis razčlenite v 3 dele:\n",
    "  - Prvih 44 bajtov predstavlja začasni javni ključ `B`\n",
    "  - Naslednjih 12 bajtov predstavlja IV\n",
    "  - Preostali bajti predstavljajo simetričen tajnopis (in značko)\n",
    "- Preden lahko začasni javni ključ `B` uporabite, ga morate pretvoriti iz bajtov v ustrezen objekt s funkcijo `load_der_public_key()`.\n",
    "- A kot ta isti začasni javni ključ `B` uporabite v zgoščevalni funkciji pri izpeljavi simetričnega ključa, morate uporabiti prvotno 44-bajtno različico."
   ]
  },
  {
   "cell_type": "code",
   "execution_count": null,
   "id": "006fea98-4b35-4030-b7af-27e87129e3e2",
   "metadata": {
    "tags": []
   },
   "outputs": [],
   "source": [
    "def decrypt_ecies(sk, ct):\n",
    "    B = load_der_public_key(ct[:44])\n",
    "    iv = ct[44:56]\n",
    "    data = ct[56:]\n",
    "\n",
    "    w = sk.exchange(B)\n",
    "    sha = hashes.Hash(hashes.SHA256())\n",
    "    sha.update(ct[:44])\n",
    "    sha.update(w)\n",
    "    key = sha.finalize()\n",
    "\n",
    "    chacha = ChaCha20Poly1305(key)\n",
    "    return chacha.decrypt(iv, data, None)\n",
    "\n",
    "pt = decrypt_ecies(\n",
    "    load_secret_key(\"ecies.sk\"), # skrivni ključ\n",
    "    load_bytes(\"ecies.ct\") # tajnopis\n",
    ")\n",
    "print(\"Dešifrirano:\", pt.decode(\"utf8\"))\n",
    "assert pt == load_bytes(\"ecies.msg\")"
   ]
  }
 ],
 "metadata": {
  "kernelspec": {
   "display_name": "Python 3 (ipykernel)",
   "language": "python",
   "name": "python3"
  },
  "language_info": {
   "codemirror_mode": {
    "name": "ipython",
    "version": 3
   },
   "file_extension": ".py",
   "mimetype": "text/x-python",
   "name": "python",
   "nbconvert_exporter": "python",
   "pygments_lexer": "ipython3",
   "version": "3.12.7"
  }
 },
 "nbformat": 4,
 "nbformat_minor": 5
}
